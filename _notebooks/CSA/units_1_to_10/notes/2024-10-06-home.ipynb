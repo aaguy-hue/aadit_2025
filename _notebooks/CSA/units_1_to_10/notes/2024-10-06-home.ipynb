{
 "cells": [
  {
   "cell_type": "raw",
   "metadata": {
    "vscode": {
     "languageId": "raw"
    }
   },
   "source": [
    "---\n",
    "layout: post\n",
    "title: Notes — Homepage\n",
    "description: The homepage of my collection of notes.\n",
    "toc: true\n",
    "permalink: /csa/notes/home/\n",
    "menu: nav/CSA_Units/notes.html\n",
    "comments: true\n",
    "---"
   ]
  },
  {
   "cell_type": "markdown",
   "metadata": {},
   "source": [
    "These are the notes which I created on each unit. My notes are there to **emphasize concepts I may forget**.\n",
    "\n",
    "Each of my notes has some interactive activity at the end which I created to show my understanding of that unit."
   ]
  }
 ],
 "metadata": {
  "language_info": {
   "name": "python"
  }
 },
 "nbformat": 4,
 "nbformat_minor": 2
}
