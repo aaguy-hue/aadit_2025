{
 "cells": [
  {
   "cell_type": "raw",
   "metadata": {
    "vscode": {
     "languageId": "raw"
    }
   },
   "source": [
    "---\n",
    "layout: post\n",
    "title: Unit 5\n",
    "description: My notes on unit 5.\n",
    "toc: true\n",
    "permalink: /csa/notes/unit5\n",
    "menu: nav/CSA_Units/notes.html\n",
    "comments: true\n",
    "author: Aadit Mathur\n",
    "---"
   ]
  },
  {
   "cell_type": "markdown",
   "metadata": {},
   "source": [
    "<a href=\"{{site.baseurl}}/csa/unit5/5\">Link to lesson</a>\n",
    "\n",
    "## Classes\n",
    "\n",
    "This is basically unit 2 but more in depth.\n",
    "\n",
    "Remember that Static methods / variables belong to the class, not the object.\n",
    "\n",
    "The `this` keyword works like `self` in python, referring to the class itself.\n",
    "\n",
    "### Mutator Methods\n",
    "**Mutator Methods** modify an object's state by changing the value of its fields or attributes\n",
    "\n",
    "**Accessor Methods** or **getters** allow you to access data\n",
    "\n",
    "**Mutators** or **setters** are weirdly enough a type of mutator method, they just modify data\n",
    "\n",
    "Java convention is for getters to be called `getVariableName()` and for setters to be called `setVariableName()`\n",
    "\n",
    "### Scope in Java\n",
    "In Python, the only scopes are the local (function) and global scope (technically you can have nested scopes with nested functions but the point still stands).\n",
    "\n",
    "In Java, even something like an if statement or a loop starts a new scope."
   ]
  }
 ],
 "metadata": {
  "language_info": {
   "name": "python"
  }
 },
 "nbformat": 4,
 "nbformat_minor": 2
}
