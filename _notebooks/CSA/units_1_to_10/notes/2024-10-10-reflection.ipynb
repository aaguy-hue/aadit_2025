{
 "cells": [
  {
   "cell_type": "raw",
   "metadata": {
    "vscode": {
     "languageId": "raw"
    }
   },
   "source": [
    "---\n",
    "layout: post\n",
    "title: Sprint 2 — Reflection\n",
    "description: This is my reflection on sprint 2!\n",
    "toc: true\n",
    "permalink: /csa/notes/reflection/\n",
    "menu: nav/CSA_Units/notes.html\n",
    "comments: true\n",
    "---"
   ]
  },
  {
   "cell_type": "markdown",
   "metadata": {},
   "source": [
    "- Used a book I liked to explain how classes can be used to generalize concepts\n",
    "- Added emojis and memes to make the lessons less monotonous and keep people's attention\n",
    "- Basketball game was fun and made others invested\n",
    "  - Someone even got injured! This truly showed how excited people were\n",
    "\n",
    "Overall, I had a blast making this lesson with my group.\n",
    "\n",
    "<img src=\"https://i.postimg.cc/BQBWg9vb/IMG-2919.jpg\" alt=\"Group Photo\" width=\"70%\" />"
   ]
  }
 ],
 "metadata": {
  "language_info": {
   "name": "python"
  }
 },
 "nbformat": 4,
 "nbformat_minor": 2
}
