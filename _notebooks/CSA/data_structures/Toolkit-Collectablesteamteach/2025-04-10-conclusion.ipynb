{
 "cells": [
  {
   "cell_type": "code",
   "execution_count": null,
   "id": "8e09829f",
   "metadata": {
    "vscode": {
     "languageId": "java"
    }
   },
   "outputs": [],
   "source": [
    "---\n",
    "layout: post\n",
    "title: Collectables Summary #2 \n",
    "permalink: /collectablesToolkitConclusion\n",
    "authors: Tarun, Srini, Nitin\n",
    "menu: /nav/CSA_Units/ds_team_teaches/toolkit-collectables.html\n",
    "---"
   ]
  },
  {
   "cell_type": "markdown",
   "id": "b7a3c85d",
   "metadata": {},
   "source": [
    "## Summary Diagram\n",
    "\n",
    "![Image](https://github.com/user-attachments/assets/a21dbb2a-1f66-44b8-bc25-f08ac0718b6f)\n",
    "\n",
    "\n",
    "![Image2](https://github.com/user-attachments/assets/073aeab1-bcd4-425b-a8d7-726d92cb8912)"
   ]
  },
  {
   "cell_type": "markdown",
   "id": "84de7eb2",
   "metadata": {},
   "source": [
    "## Java Collections ***Homework*** (due the Wednesday After Spring break)\n",
    "\n",
    "### Objectives\n",
    "- Practice using **List**, **Set**, and **Deque**\n",
    "- Understand when and why to use each\n",
    "- Apply key methods from each collection type\n",
    "- Practice iteration and conditional logic with collections\n",
    "\n",
    "\n",
    "\n",
    "### Part 1: Working with Lists\n",
    "\n",
    "**Task:**  \n",
    "Create a method that takes a List<Integer> and returns a new list containing only the **even numbers**, in the same order.\n",
    "\n",
    "**Requirements:**\n",
    "- Use ArrayList\n",
    "- Use add, get, and size\n",
    "- Use a loop (not streams)\n",
    "\n",
    "\n",
    "\n",
    "### Part 2: Working with Sets\n",
    "\n",
    "**Task:**  \n",
    "Create a method that takes two Set<String> objects and returns a new Set<String> with only the **common elements** (i.e. the intersection).\n",
    "\n",
    "**Requirements:**\n",
    "- Use HashSet\n",
    "- Use contains, add, and iteration\n",
    "- Final result should have **no duplicates**\n",
    "\n",
    "\n",
    "\n",
    "### Part 3: Working with Deques\n",
    "\n",
    "**Task:**  \n",
    "Simulate a line of customers using a Deque<String>. Implement the following steps in order:\n",
    "\n",
    "1. Add 3 customers to the **end**\n",
    "2. Add 1 customer to the **front** (VIP)\n",
    "3. Remove the customer at the **front**\n",
    "4. Show the current front and back of the line\n",
    "5. Print the size of the line\n",
    "\n",
    "**Requirements:**\n",
    "- Use ArrayDeque\n",
    "- Use addFirst, addLast, removeFirst, peekFirst, peekLast, and size\n",
    "\n",
    "\n",
    "\n",
    "### Challenge Question (Bonus +0.01)\n",
    "\n",
    "**Question:**  \n",
    "You need to store a collection of student IDs where:\n",
    "- Order **doesn't matter**\n",
    "- You must prevent **duplicates**\n",
    "- You often need to **check if an ID exists**\n",
    "\n",
    "Which collection type would be most efficient to use and why?\n"
   ]
  },
  {
   "cell_type": "code",
   "execution_count": 7,
   "id": "9737b3ae",
   "metadata": {
    "vscode": {
     "languageId": "java"
    }
   },
   "outputs": [
    {
     "name": "stdout",
     "output_type": "stream",
     "text": [
      "[1, 3, 5]\n",
      "[3, 4]\n",
      "Nitin\n",
      "Skibidi\n",
      "3\n"
     ]
    }
   ],
   "source": [
    "import java.util.*;\n",
    "\n",
    "public class CollectablesHW {\n",
    "    public static ArrayList<Integer> question1(ArrayList<Integer> list) {\n",
    "        ArrayList<Integer> list2 = new ArrayList<>();\n",
    "\n",
    "        for (int i = 0; i < list.size(); i++) {\n",
    "            if (list.get(i) % 2 != 0) {\n",
    "                list2.add(list.get(i));\n",
    "            }\n",
    "        }\n",
    "\n",
    "        return list2;\n",
    "    }\n",
    "\n",
    "    public static Set<Integer> question2(Set<Integer> set1, Set<Integer> set2) {\n",
    "        Set<Integer> set3 = new HashSet<>();\n",
    "        for (Integer i : set1) {\n",
    "            if (set2.contains(i)) {\n",
    "                set3.add(i);\n",
    "            }\n",
    "        }\n",
    "        return set3;\n",
    "    }\n",
    "\n",
    "    public static void question3() {\n",
    "        Deque<String> line = new ArrayDeque<>();\n",
    "        line.addLast(\"Nitin\");\n",
    "        line.addLast(\"Srini\");\n",
    "        line.addLast(\"Skibidi\");\n",
    "\n",
    "        line.addFirst(\"VIP Tarun Sigma\");\n",
    "        line.removeFirst();\n",
    "\n",
    "        System.out.println(line.peekFirst());\n",
    "        System.out.println(line.peekLast());\n",
    "        System.out.println(line.size());\n",
    "    }\n",
    "\n",
    "    public static void bonusQuestion() {\n",
    "        /*\n",
    "         * A set would be the best data structure to use because sets basically just fit all the requirements perfectly: since we hash the elements, we don't store duplicates, and also checking if an element is in the set is O(1) so it's super fast. Sets unfortunately don't have an order, but we dont need one so this works out well.\n",
    "         */\n",
    "    }\n",
    "\n",
    "    public static void main(String[] args) {\n",
    "        ArrayList<Integer> list = new ArrayList<>(Arrays.asList(1, 2, 3, 4, 5));\n",
    "        System.out.println(question1(list));\n",
    "\n",
    "        Set<Integer> set1 = new HashSet<>(Arrays.asList(1, 2, 3, 4));\n",
    "        Set<Integer> set2 = new HashSet<>(Arrays.asList(3, 4, 5, 6));\n",
    "        System.out.println(question2(set1, set2));\n",
    "\n",
    "        question3();\n",
    "    }\n",
    "}\n",
    "\n",
    "CollectablesHW.main(null);"
   ]
  }
 ],
 "metadata": {
  "kernelspec": {
   "display_name": "java (IJava/j!)",
   "language": "java",
   "name": "jbang-ijava"
  },
  "language_info": {
   "codemirror_mode": "java",
   "file_extension": ".jshell",
   "mimetype": "text/x-java-source",
   "name": "Java",
   "pygments_lexer": "java",
   "version": "17.0.12+1-b1087.25"
  }
 },
 "nbformat": 4,
 "nbformat_minor": 5
}
