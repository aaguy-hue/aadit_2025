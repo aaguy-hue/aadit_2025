{
 "cells": [
  {
   "cell_type": "raw",
   "metadata": {
    "vscode": {
     "languageId": "raw"
    }
   },
   "source": [
    "---\n",
    "layout: post\n",
    "title: Question 1 — Methods & Control Structures\n",
    "description: Notes on FRQ Question #1\n",
    "toc: true\n",
    "permalink: /csa/frqnotes/methods-control/\n",
    "menu: nav/CSA_Units/frqnotes.html\n",
    "comments: true\n",
    "---"
   ]
  },
  {
   "cell_type": "markdown",
   "metadata": {},
   "source": [
    "##### IMPORTANT NOTE: Main focus on these questions is the logic, not the specific syntax\n",
    "Small typos are ok\n",
    "\n",
    "### Strings\n",
    "String methods/properties:\n",
    "- Getting size (`str.length()`)\n",
    "- Getting char at index (`str.charAt(index)`)\n",
    "- Compare strings lexicographically (`str.compareTo(str2)`)\n",
    "  - 0 if equal, negative if str is less than str2 (or less characters), positive if str is greater than str2 (or more characters)\n",
    "- Check equality (`str.equals(str2)`)\n",
    "- Get substring (`str.substring(start, end)`)\n",
    "  - Start is inclusive, end is exclusive\n",
    "\n",
    "\n",
    "### Control flow\n",
    "- Just use if, else, else if\n",
    "- Make sure you think about the order in which the statements will be checked\n",
    "\n",
    "\n",
    "## Example - 2020 FRQ Part 1\n",
    "9/9 Points\n",
    "```java\n",
    "public class HailStone {\n",
    "    public static int hailstoneLength(int n) {\n",
    "        int length = 0;\n",
    "        while (n != 1) {\n",
    "            length++;\n",
    "            if (n%2 == 0) {\n",
    "                n = n/2;\n",
    "            } else {\n",
    "                n = 3n+1;\n",
    "            }\n",
    "        }\n",
    "    }\n",
    "\n",
    "    public static boolean isLongSeq(int n) {\n",
    "        return hailstoneLength(n) > n;\n",
    "    }\n",
    "\n",
    "    public static double propLong(int n) {\n",
    "        int longcount = 0;\n",
    "        for (int i = 1; i <= n; i++) {\n",
    "            if (isLongSeq(n)) {\n",
    "                longcount++;\n",
    "            }\n",
    "        }\n",
    "        return longcount/n;\n",
    "    }\n",
    "}\n",
    "```"
   ]
  }
 ],
 "metadata": {
  "language_info": {
   "name": "python"
  }
 },
 "nbformat": 4,
 "nbformat_minor": 2
}
