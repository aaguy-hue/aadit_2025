{
 "cells": [
  {
   "cell_type": "raw",
   "metadata": {
    "vscode": {
     "languageId": "raw"
    }
   },
   "source": [
    "---\n",
    "layout: post\n",
    "title: Question 2 — Class Implementation\n",
    "description: Notes on FRQ Question #2\n",
    "toc: true\n",
    "permalink: /csa/frqnotes/class-implementation/\n",
    "menu: nav/CSA_Units/frqnotes.html\n",
    "comments: true\n",
    "---"
   ]
  },
  {
   "cell_type": "markdown",
   "metadata": {},
   "source": [
    "### Things to look out for\n",
    "1. Don't have random code that isn't necessary\n",
    "  a. For example, random print statements shouldn't be there\n",
    "2. Forgetting to declare variables\n",
    "3. Void methods and constructors shouldn't return values\n",
    "\n",
    "### Steps to solving the problem\n",
    "1. Writing the class header (`public class ClassName { ... }`)\n",
    "2. Declare the instance variables (`private int skibidi;`)\n",
    "  a. Usually should be private\n",
    "3. Declare constructor header (`public ClassName(...) { ... }`)\n",
    "  a. Should usually be public\n",
    "4. Declare method headers (`public void sampleMethod(...) { ... }`)\n",
    "  a. Should usually be public, but it may be private if the question says so\n",
    "5. Write the actual logic in the methods now"
   ]
  }
 ],
 "metadata": {
  "language_info": {
   "name": "python"
  }
 },
 "nbformat": 4,
 "nbformat_minor": 2
}
