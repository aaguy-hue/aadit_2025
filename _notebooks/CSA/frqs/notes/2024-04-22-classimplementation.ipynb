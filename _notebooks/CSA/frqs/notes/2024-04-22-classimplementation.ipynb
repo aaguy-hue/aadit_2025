{
 "cells": [
  {
   "cell_type": "raw",
   "metadata": {
    "vscode": {
     "languageId": "raw"
    }
   },
   "source": [
    "---\n",
    "layout: post\n",
    "title: Question 2 — Class Implementation\n",
    "description: Notes on FRQ Question #2\n",
    "toc: true\n",
    "permalink: /csa/frqnotes/class-implementation/\n",
    "menu: nav/CSA_Units/frqnotes.html\n",
    "comments: true\n",
    "---"
   ]
  },
  {
   "cell_type": "markdown",
   "metadata": {},
   "source": [
    "### Things to look out for\n",
    "1. Don't have random code that isn't necessary\n",
    "  a. For example, random print statements shouldn't be there\n",
    "2. Forgetting to declare variables\n",
    "3. Void methods and constructors shouldn't return values\n",
    "\n",
    "### Steps to solving the problem\n",
    "1. Writing the class header (`public class ClassName { ... }`)\n",
    "2. Declare the instance variables (`private int skibidi;`)\n",
    "  a. Usually should be private\n",
    "3. Declare constructor header (`public ClassName(...) { ... }`)\n",
    "  a. Should usually be public\n",
    "4. Declare method headers (`public void sampleMethod(...) { ... }`)\n",
    "  a. Should usually be public, but it may be private if the question says so\n",
    "5. Write the actual logic in the methods now"
   ]
  },
  {
   "cell_type": "markdown",
   "metadata": {},
   "source": [
    "## Example - 2020 FRQ Part 2\n",
    "9/9 Points\n",
    "\n",
    "```java\n",
    "import java.util.Random;\n",
    "\n",
    "public class GameSpinner {\n",
    "    private int numSectors;\n",
    "    private int lastSpin;\n",
    "    private int runLength;\n",
    "    private Random rand;\n",
    "\n",
    "    public GameSpinner(int sectors) {\n",
    "        numSectors = sectors;\n",
    "        lastSpin = -1;\n",
    "        runLength = 0;\n",
    "        rand = new Random();\n",
    "    }\n",
    "\n",
    "    public int spin() {\n",
    "        int result = rand.nextInt(numSectors) + 1;\n",
    "\n",
    "        if (result == lastSpin) {\n",
    "            runLength++;\n",
    "        } else {\n",
    "            runLength = 1;\n",
    "            lastSpin = result;\n",
    "        }\n",
    "\n",
    "        return result;\n",
    "    }\n",
    "\n",
    "    public int currentRun() {\n",
    "        return runLength;\n",
    "    }\n",
    "}\n",
    "```"
   ]
  }
 ],
 "metadata": {
  "language_info": {
   "name": "python"
  }
 },
 "nbformat": 4,
 "nbformat_minor": 2
}
