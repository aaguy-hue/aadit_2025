{
 "cells": [
  {
   "cell_type": "raw",
   "metadata": {
    "vscode": {
     "languageId": "raw"
    }
   },
   "source": [
    "---\n",
    "layout: post\n",
    "title: Question 3 — 2D Arrays\n",
    "description: Notes on FRQ Question #4\n",
    "toc: true\n",
    "permalink: /csa/frqnotes/2darray/\n",
    "menu: nav/CSA_Units/frqnotes.html\n",
    "comments: true\n",
    "---"
   ]
  },
  {
   "cell_type": "markdown",
   "metadata": {},
   "source": [
    "## Creation of 2D Array\n",
    "```java\n",
    "// Declare a 2D array\n",
    "int[][] array = new int[3][4]; // 3 rows and 4 columns\n",
    "\n",
    "// Declare and initialize with values\n",
    "int[][] array = {\n",
    "    {1, 2, 3},\n",
    "    {4, 5, 6},\n",
    "    {7, 8, 9}\n",
    "};\n",
    "```\n"
   ]
  },
  {
   "cell_type": "markdown",
   "metadata": {},
   "source": [
    "## Indexing 2D Arrays\n",
    "\n",
    "To index a 2D array, place the row number, followed by the column number.\n",
    "```java\n",
    "// Access elements in the array\n",
    "int value = array[0][1]; // Gets the number in the 1st row and 2nd column\n",
    "System.out.println(value); // Output: 2\n",
    "\n",
    "int value2 = array[1][2]; // Gets the number in the 2nd row and 3rd column\n",
    "System.out.println(value2); // Output: 6\n",
    "\n",
    "// Whoopsie daisies! Error! This is out of bounds\n",
    "int value3 = array[20][10];\n",
    "System.out.println(value3);\n",
    "```\n"
   ]
  },
  {
   "cell_type": "markdown",
   "metadata": {},
   "source": [
    "## Iteration of 2D Array\n",
    "\n",
    "To iterate through a 2D array:\n",
    "\n",
    "**Row-major order**\n",
    "```java\n",
    "// For loop: Add 5 to all elements of the array\n",
    "for (int row = 0; row < array.length; row++) {\n",
    "    for (int col = 0; col < array[row].length; col++) {\n",
    "        array[row][col] += 5; // Add 5 to each element\n",
    "    }\n",
    "}\n",
    "\n",
    "// Foreach loop: Output all elements of the array\n",
    "for (int[] row : array) {\n",
    "    for (int item : row) {\n",
    "        System.out.print(item + \" \");\n",
    "    }\n",
    "    System.out.println(); // Adds a newline after each row\n",
    "}\n",
    "```\n",
    "\n",
    "**Column-major order**\n",
    "```java\n",
    "for (int col = 0; col < array[0].length; col++) {\n",
    "    for (int row = 0; row < array.length; row++) {\n",
    "        System.out.print(array[row][col]);\n",
    "    }\n",
    "    System.out.println();\n",
    "}\n",
    "```\n"
   ]
  },
  {
   "cell_type": "markdown",
   "metadata": {},
   "source": [
    "## Example - 2020 FRQ Part 4\n",
    "\n",
    "```java\n",
    "public class Seat {\n",
    "    private boolean available;\n",
    "    private int tier;\n",
    "\n",
    "    public Seat(boolean isAvail, int tierNum) {\n",
    "        available = isAvail;\n",
    "        tier = tierNum;\n",
    "    }\n",
    "\n",
    "    public boolean isAvailable() {\n",
    "        return available;\n",
    "    }\n",
    "\n",
    "    public int getTier() {\n",
    "        return tier;\n",
    "    }\n",
    "\n",
    "    public void setAvailability(boolean isAvail) {\n",
    "        available = isAvail;\n",
    "    }\n",
    "}\n",
    "\n",
    "public class Theater {\n",
    "    private Seat[][] theaterSeats;\n",
    "\n",
    "    public Theater(int seatsPerRow, int tier1Rows, int tier2Rows) {\n",
    "        \n",
    "    }\n",
    "\n",
    "    public boolean reassignSeat(int fromRow, int fromCol, int toRow, int toCol) {\n",
    "\n",
    "    }\n",
    "}\n",
    "```"
   ]
  }
 ],
 "metadata": {
  "language_info": {
   "name": "python"
  }
 },
 "nbformat": 4,
 "nbformat_minor": 2
}
