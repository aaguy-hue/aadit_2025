{
 "cells": [
  {
   "cell_type": "raw",
   "metadata": {
    "vscode": {
     "languageId": "raw"
    }
   },
   "source": [
    "---\n",
    "layout: post\n",
    "title: Question 3 — Arrays and ArrayLists\n",
    "description: Notes on FRQ Question #3\n",
    "toc: true\n",
    "permalink: /csa/frqnotes/arrays/\n",
    "menu: nav/CSA_Units/frqnotes.html\n",
    "comments: true\n",
    "---"
   ]
  },
  {
   "cell_type": "markdown",
   "metadata": {},
   "source": [
    "\n",
    "### Arrays\n",
    "Arrays have a few important operations:\n",
    "- Initializing (`int[] arr = new int[10];`)\n",
    "- Indexing (`arr[5]`)\n",
    "- Getting length (`arr.length`)\n",
    "- Iterating (using loops to access elements)\n",
    "\n",
    "### ArrayLists\n",
    "ArrayLists aren't of fixed length and can be more versatile:\n",
    "- Initializing (`ArrayList<Integer> list = new ArrayList<>();`)\n",
    "  - Note that you can't use primitive types for the elements\n",
    "- Getting value (`list.get(index)`)\n",
    "- Inserting value at end (`list.add(element)`)\n",
    "- Inserting value at an index (`list.add(index, element)`)\n",
    "- Getting index of element (`list.indexOf(element)`)\n",
    "- Checking if elmenet is in ArrayList (`list.contains(element)`)\n",
    "- Removing element at index (`list.remove(int index)`)\n",
    "- Removing element with value (`list.remove(Object value)`)\n",
    "- Set new value at an index (`list.set(index, element)`)\n",
    "- Getting size (`list.size()`)\n",
    "- Convert to primitive array (`list.toArray()`)\n"
   ]
  }
 ],
 "metadata": {
  "language_info": {
   "name": "python"
  }
 },
 "nbformat": 4,
 "nbformat_minor": 2
}
