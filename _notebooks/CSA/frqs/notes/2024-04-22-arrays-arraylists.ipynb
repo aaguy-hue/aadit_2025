{
 "cells": [
  {
   "cell_type": "raw",
   "metadata": {
    "vscode": {
     "languageId": "raw"
    }
   },
   "source": [
    "---\n",
    "layout: post\n",
    "title: Question 3 — Arrays and ArrayLists\n",
    "description: Notes on FRQ Question #3\n",
    "toc: true\n",
    "permalink: /csa/frqnotes/arrays/\n",
    "menu: nav/CSA_Units/frqnotes.html\n",
    "comments: true\n",
    "---"
   ]
  },
  {
   "cell_type": "markdown",
   "metadata": {},
   "source": [
    "\n",
    "### Arrays\n",
    "Arrays have a few important operations:\n",
    "- Initializing (`int[] arr = new int[10];`)\n",
    "- Indexing (`arr[5]`)\n",
    "- Getting length (`arr.length`)\n",
    "- Iterating (using loops to access elements)\n",
    "\n",
    "### ArrayLists\n",
    "ArrayLists aren't of fixed length and can be more versatile:\n",
    "- Initializing (`ArrayList<Integer> list = new ArrayList<>();`)\n",
    "  - Note that you can't use primitive types for the elements\n",
    "- Getting value (`list.get(index)`)\n",
    "- Inserting value at end (`list.add(element)`)\n",
    "- Inserting value at an index (`list.add(index, element)`)\n",
    "- Getting index of element (`list.indexOf(element)`)\n",
    "- Checking if elmenet is in ArrayList (`list.contains(element)`)\n",
    "- Removing element at index (`list.remove(int index)`)\n",
    "- Removing element with value (`list.remove(Object value)`)\n",
    "- Set new value at an index (`list.set(index, element)`)\n",
    "- Getting size (`list.size()`)\n",
    "- Convert to primitive array (`list.toArray()`)\n"
   ]
  },
  {
   "cell_type": "markdown",
   "metadata": {},
   "source": [
    "## Example - 2020 FRQ Part 3\n",
    "```java\n",
    "public class ReviewCollector {\n",
    "    private ArrayList<ProductReview> reviewList;\n",
    "    private ArrayList<String> productList;\n",
    "\n",
    "    public ReviewCollector() {\n",
    "        reviewList = new ArrayList<ProductReview>();\n",
    "        productList = new ArrayList<String>();\n",
    "    }\n",
    "\n",
    "    public void addReview(ProductReview prodReview) {\n",
    "        reviewList.add(prodReview);\n",
    "        productList.add(prodReview.getName());\n",
    "    }\n",
    "\n",
    "    /** Returns the number of good reviews for a given product name, as described in part (b). */\n",
    "\n",
    "    public int getNumGoodReviews(String prodName) {\n",
    "        int answer = 0;\n",
    "        for (ProductReview review : reviewList) {\n",
    "            if (review.getName().equals(prodName)) {\n",
    "                if (review.getReview.contains(\"best\")) {\n",
    "                    answer++;\n",
    "                }\n",
    "            }\n",
    "        }\n",
    "        return answer;\n",
    "    }\n",
    "}\n",
    "\n",
    "public class ProductReview {\n",
    "    private String name;\n",
    "    private String review;\n",
    "\n",
    "    public ProductReview(String pName, String pReview) {\n",
    "        name = pName;\n",
    "        review = pReview;\n",
    "    }\n",
    "\n",
    "    public String getName() {\n",
    "        return name;\n",
    "    }\n",
    "\n",
    "    public String getReview() {\n",
    "        return review; \n",
    "    }\n",
    "}\n",
    "```"
   ]
  }
 ],
 "metadata": {
  "language_info": {
   "name": "python"
  }
 },
 "nbformat": 4,
 "nbformat_minor": 2
}
