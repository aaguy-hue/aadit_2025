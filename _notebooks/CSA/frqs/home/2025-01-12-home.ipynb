{
 "cells": [
  {
   "cell_type": "raw",
   "metadata": {
    "vscode": {
     "languageId": "raw"
    }
   },
   "source": [
    "---\n",
    "layout: post\n",
    "title: FRQ Studying Home\n",
    "categories: [AP CSA]\n",
    "permalink: /frqs/home\n",
    "---"
   ]
  },
  {
   "cell_type": "markdown",
   "metadata": {},
   "source": [
    "This is the homepage for studying FRQs.\n",
    "\n",
    "TODO: Add navbar."
   ]
  }
 ],
 "metadata": {
  "language_info": {
   "name": "python"
  }
 },
 "nbformat": 4,
 "nbformat_minor": 2
}
