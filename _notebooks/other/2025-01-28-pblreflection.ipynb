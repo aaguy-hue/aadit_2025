{
 "cells": [
  {
   "cell_type": "raw",
   "metadata": {
    "vscode": {
     "languageId": "raw"
    }
   },
   "source": [
    "---\n",
    "layout: post\n",
    "title: PBL Reflection\n",
    "description: My reflection on the PBL experience.\n",
    "permalink: /blogs/pbl-reflection\n",
    "toc: true\n",
    "---"
   ]
  },
  {
   "cell_type": "markdown",
   "metadata": {},
   "source": [
    "## Key Accomplishments\n",
    "- Organization of work within toolkit, particularly with respect to grading\n",
    "  - [Link to Kanban Board](https://github.com/orgs/CSA-Coders-2025/projects/3/views/9)\n",
    "![Kanban Board](https://i.ibb.co/2YdWykt3/image.png)\n",
    "\n",
    "- Work on page for students to grade submissions\n",
    "  - [Link to page](https://nighthawkcoders.github.io/portfolio_2025/student/assign-grades)\n",
    "![Grading Page](https://i.ibb.co/spgWpRCk/image.png)\n",
    "\n",
    "- Helping various students\n",
    "\n",
    "## Program Flow\n",
    "![Program Flow](https://i.ibb.co/5pTW6dq/Program-Flow.png)\n",
    "\n",
    "## Key Commits/Issues\n",
    "- [Grading Page PR](https://github.com/CSA-Coders-2025/CSA_Combined_Frontend_Fork/pull/49)\n",
    "- [Key Issue for Grading Page](https://github.com/orgs/CSA-Coders-2025/projects/3/views/9?pane=issue&itemId=93899479&issue=CSA-Coders-2025%7CPlanning-Repository-Issue-House-%7C89)\n",
    "\n",
    "## Retrospective\n",
    "### New Learnings\n",
    "- Balancing time to get work done efficiently\n",
    "- Prioritizing tasks\n",
    "  - Fibonacci weighting!\n",
    "- Delegating tasks to others\n",
    "\n",
    "### Weaknesses\n",
    "- Clearly explaining tasks to pepole"
   ]
  }
 ],
 "metadata": {
  "kernelspec": {
   "display_name": "java (IJava/j!)",
   "language": "java",
   "name": "jbang-ijava"
  },
  "language_info": {
   "name": "java"
  }
 },
 "nbformat": 4,
 "nbformat_minor": 2
}
