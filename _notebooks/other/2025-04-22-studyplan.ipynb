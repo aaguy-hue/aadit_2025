{
 "cells": [
  {
   "cell_type": "raw",
   "id": "15098aab",
   "metadata": {
    "vscode": {
     "languageId": "raw"
    }
   },
   "source": [
    "---\n",
    "layout: post\n",
    "title: Study Plan\n",
    "description: My study plan for the AP Exam.\n",
    "permalink: /blogs/study-plan/\n",
    "toc: true\n",
    "---"
   ]
  },
  {
   "cell_type": "markdown",
   "id": "8f2681f8",
   "metadata": {},
   "source": []
  }
 ],
 "metadata": {
  "language_info": {
   "name": "python"
  }
 },
 "nbformat": 4,
 "nbformat_minor": 5
}
