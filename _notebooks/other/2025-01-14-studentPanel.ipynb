{
 "cells": [
  {
   "cell_type": "raw",
   "metadata": {
    "vscode": {
     "languageId": "raw"
    }
   },
   "source": [
    "---\n",
    "layout: post\n",
    "title: Student Panel Blog\n",
    "description: My blog about my takeaways from the student panel.\n",
    "permalink: /blogs/student-panel\n",
    "toc: true\n",
    "---"
   ]
  },
  {
   "cell_type": "markdown",
   "metadata": {},
   "source": [
    "# Short reflection\n",
    "At the panel last week, I enjoyed being able to meet some highly successful students and gain tips from them. I got to learn important information about college, bettering my communication skills, and organizational skills.\n",
    "\n",
    "<img src=\"https://i.ibb.co/yptqWfd/IMG-5916.jpg\" />"
   ]
  },
  {
   "cell_type": "markdown",
   "metadata": {},
   "source": [
    "\n",
    "# Key Takeaways\n",
    "## Communication\n",
    "- Explaining and presenting how your code/project works and your process is very important in college\n",
    "- Clear communication is important when talking to recruiters and companies\n",
    "- You should have a very concise list of points when talking to someone to be seen seriously by companies\n",
    "- Live review communication skills help in \"tell me about yourself\" questions\n",
    "- Documenting issues and being clear is important\n",
    "\n",
    "\n",
    "## College Applications\n",
    "- Think about what AP credits the schools you apply to will take\n",
    "- AP CSA projects can be good things to talk about\n",
    "- Understanding the school you apply to (its culture and general info about it) a bit is useful when you write essays\n",
    "- Look at what your university provides in your major\n",
    "  - For example, if there is a really cool class in the university in your major, talk about how you want to be a part of that\n",
    "  - Show passion in college apps and why you want to go to the uni how you want to make an impact through being there\n",
    "  - Look at course catalogs so you can see what classes are there for your major\n",
    "\n",
    "\n",
    "## College experience\n",
    "- Joining clubs is good since it helps you get friends\n",
    "- Taking community college classes is useful\n",
    "  - Getting community college credits is good since they give you more credits than APs\n",
    "  - Even if you need to redo the course in college the course will end up easier if you’ve taken it before\n",
    "- GPA isn’t as big of a thing in college as it is in HS\n",
    "\n",
    "\n",
    "## Internships\n",
    "- Finding internships\n",
    "  - Search on LinkedIn job postings\n",
    "  - Message people on LinkedIn\n",
    "  - Easier for early college or high school students to do this at small startups\n",
    "- It’s useful to have a website to have a portfolio with your projects\n",
    "\n",
    "## Others\n",
    "- Always starting with a flowchart (or with UML or “usecase diagrams” with how the user uses your app) is useful\n",
    "- Cold emailing professors for research\n"
   ]
  }
 ],
 "metadata": {
  "language_info": {
   "name": "python"
  }
 },
 "nbformat": 4,
 "nbformat_minor": 2
}
