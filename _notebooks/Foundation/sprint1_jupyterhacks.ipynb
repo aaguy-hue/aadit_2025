{
 "cells": [
  {
   "cell_type": "raw",
   "metadata": {
    "vscode": {
     "languageId": "raw"
    }
   },
   "source": [
    "---\n",
    "layout: post\n",
    "title: Sprint 1 - Hacks\n",
    "description: Search and rate wikipedia articles\n",
    "type: issues\n",
    "comments: true\n",
    "permalink: /csa/sprint1/\n",
    "---"
   ]
  },
  {
   "cell_type": "markdown",
   "metadata": {},
   "source": [
    "# Wikipedia Search\n",
    "This program allows you to search for wikipedia articles and then rate them after reading them.\n",
    "Once you quit the program, it tells you the average of your ratings. It stores the ratings in a database so that the information persists across sessions 😋."
   ]
  },
  {
   "cell_type": "code",
   "execution_count": 2,
   "metadata": {},
   "outputs": [
    {
     "name": "stdout",
     "output_type": "stream",
     "text": [
      "The average rating you give is 4.0\n"
     ]
    }
   ],
   "source": [
    "#!pip install wikipedia\n",
    "import wikipedia\n",
    "from emoji import emojize\n",
    "import sqlite3\n",
    "from IPython.display import display, Markdown\n",
    "from typing import List, Optional\n",
    "\n",
    "conn: sqlite3.Connection = sqlite3.connect('wikipedia_ratings.db')\n",
    "cursor: sqlite3.Cursor = conn.cursor()\n",
    "cursor.execute('''\n",
    "CREATE TABLE IF NOT EXISTS ratings\n",
    "             (articleTitle text, rating integer)\n",
    "''')\n",
    "\n",
    "def rate(articleTitle: str, rating: int) -> None:\n",
    "    cursor.execute('INSERT INTO ratings (articleTitle, rating) VALUES (?, ?)', (articleTitle, rating))\n",
    "    conn.commit()\n",
    "\n",
    "def getAvgRating() -> Optional[float]:\n",
    "    cursor.execute('SELECT AVG(rating) FROM ratings')\n",
    "    avg_rating: Optional[float] = cursor.fetchone()[0]\n",
    "    return avg_rating\n",
    "\n",
    "def ynInput(prompt: str) -> bool:\n",
    "    return input(prompt + \" [y/n]\").startswith(\"y\")\n",
    "\n",
    "def rangedInput(prompt: str, minVal: int, maxVal: int) -> int:\n",
    "    inp: str = input(prompt)\n",
    "    while True:\n",
    "        if inp.isdecimal():\n",
    "            inp_int: int = int(inp)\n",
    "            if minVal <= inp_int <= maxVal:\n",
    "                return inp_int\n",
    "        inp = input(f\"Invalid input. Please enter a number between {minVal} and {maxVal}.\")\n",
    "\n",
    "try:\n",
    "    while True:\n",
    "        user_inp: str = input(\"What Wikipedia page would you like to open?\")\n",
    "        if user_inp.strip() == \"\":\n",
    "            raise KeyboardInterrupt()\n",
    "        \n",
    "        results: List[wikipedia.WikipediaPage] = wikipedia.search(user_inp)\n",
    "        if len(results) == 0:\n",
    "            print(\"No such article was found.\")\n",
    "            continue\n",
    "        \n",
    "        try:\n",
    "            summary: str = wikipedia.summary(results[0])\n",
    "            print(\"Here is a summary of the article:\")\n",
    "            display(Markdown(summary))\n",
    "        except wikipedia.PageError:\n",
    "            print(\"No such article was found.\")\n",
    "            continue\n",
    "        \n",
    "        read_full_article: bool = ynInput(\"Would you like to read the full article?\")\n",
    "        if read_full_article:\n",
    "            print(f\"Ok here's the link {results[0].url}\")\n",
    "            \n",
    "            rating: int = rangedInput(\"Please rate this article w/ a number from 1-5 (don't do a SQL injection please)\", 1, 5)\n",
    "            rate(user_inp, rating)\n",
    "            print(f\"You gave a rating of \", end=\"\")\n",
    "            \n",
    "            for _ in range(rating):\n",
    "                print(emojize(\":star:\"), end=\"\")\n",
    "except KeyboardInterrupt:\n",
    "    avg_rating: Optional[float] = getAvgRating()\n",
    "    print(f\"The average rating you give is {avg_rating}\")\n",
    "    conn.close()\n"
   ]
  },
  {
   "cell_type": "code",
   "execution_count": null,
   "metadata": {},
   "outputs": [],
   "source": [
    "import inspect \n",
    "from wikipedia import search\n",
    "\n",
    "print(\"Are you curious about how the python wikipedia library's search function works? Well I sure am!\")\n",
    "inspect.getsource(search)"
   ]
  }
 ],
 "metadata": {
  "kernelspec": {
   "display_name": "base",
   "language": "python",
   "name": "python3"
  },
  "language_info": {
   "codemirror_mode": {
    "name": "ipython",
    "version": 3
   },
   "file_extension": ".py",
   "mimetype": "text/x-python",
   "name": "python",
   "nbconvert_exporter": "python",
   "pygments_lexer": "ipython3",
   "version": "3.11.9"
  }
 },
 "nbformat": 4,
 "nbformat_minor": 2
}
